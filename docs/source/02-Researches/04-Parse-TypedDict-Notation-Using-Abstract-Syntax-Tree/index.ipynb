{
 "cells": [
  {
   "cell_type": "markdown",
   "id": "295687e9-8cd7-4f31-bc91-b8957cae71be",
   "metadata": {},
   "source": [
    "# Parse TypedDict Notation Using Abstract Syntax Tree"
   ]
  },
  {
   "cell_type": "code",
   "execution_count": 1,
   "id": "cd799d27-cab1-40ea-8dc5-0fee668911dd",
   "metadata": {},
   "outputs": [],
   "source": [
    "import ast"
   ]
  },
  {
   "cell_type": "code",
   "execution_count": 2,
   "id": "f4db5bec-b333-49fc-8692-daf8c6ac3bf8",
   "metadata": {},
   "outputs": [],
   "source": [
    "# type_def.pyi\n",
    "\n",
    "import typing as T\n",
    "from typing import (\n",
    "    TypedDict,\n",
    "    Optional,\n",
    ")\n",
    "\n",
    "a: int = 1\n",
    "b: str = \"Alice\"\n",
    "\n",
    "class User(TypedDict):\n",
    "    id: int\n",
    "    name: str"
   ]
  },
  {
   "cell_type": "code",
   "execution_count": 3,
   "id": "d26091e0-f07e-4286-91eb-61e810df2ee5",
   "metadata": {},
   "outputs": [],
   "source": [
    "source = \"\"\"\n",
    "# type_def.pyi\n",
    "\n",
    "import typing as T\n",
    "from typing import (\n",
    "    TypedDict,\n",
    "    Optional,\n",
    ")\n",
    "\n",
    "a: int = 1\n",
    "b: str = \"Alice\"\n",
    "\n",
    "class User(TypedDict):\n",
    "    id: int\n",
    "    name: str\n",
    "\"\"\".strip()\n",
    "\n",
    "module = ast.parse(source)"
   ]
  },
  {
   "cell_type": "code",
   "execution_count": 4,
   "id": "842091a4-df41-40a1-af1e-7815b93a746d",
   "metadata": {},
   "outputs": [
    {
     "name": "stdout",
     "output_type": "stream",
     "text": [
      "========== 1 ==========\n",
      "import typing as T\n",
      "type(node) = <class 'ast.Import'>\n",
      "========== 2 ==========\n",
      "from typing import (\n",
      "    TypedDict,\n",
      "    Optional,\n",
      ")\n",
      "type(node) = <class 'ast.ImportFrom'>\n",
      "========== 3 ==========\n",
      "a: int = 1\n",
      "type(node) = <class 'ast.AnnAssign'>\n",
      "========== 4 ==========\n",
      "b: str = \"Alice\"\n",
      "type(node) = <class 'ast.AnnAssign'>\n",
      "========== 5 ==========\n",
      "class User(TypedDict):\n",
      "    id: int\n",
      "    name: str\n",
      "type(node) = <class 'ast.ClassDef'>\n"
     ]
    }
   ],
   "source": [
    "for i, node in enumerate(module.body, start=1):\n",
    "    print(f\"========== {i} ==========\")\n",
    "    text = ast.get_source_segment(source, node)\n",
    "    print(text)\n",
    "    print(f\"{type(node) = }\")"
   ]
  },
  {
   "cell_type": "markdown",
   "id": "3b7f9e8f-2026-40f5-a930-09ed8f0dd071",
   "metadata": {},
   "source": [
    "## 最简单的赋值\n",
    "\n",
    "``ast.Assign`` 是赋值. 类似于 ``a = 1`` (不带类型注解)\n",
    "\n",
    "- ``targets``: 等式左边的对象, 因为 Python 支持多个变量同时赋值, 所以它是一个列表. 通常里面只有一个元素.\n",
    "- ``targets[0]``: 这里是 ``ast.Name``, 也就是变量名.\n",
    "- ``value``: 等式右边的值. 它有 value 和 kind 两个属性. 其中 value 的部分非常重要."
   ]
  },
  {
   "cell_type": "code",
   "execution_count": 5,
   "id": "d1d85e78-9bb0-4d76-bccb-772392d597d7",
   "metadata": {},
   "outputs": [],
   "source": [
    "# type_def.pyi\n",
    "\n",
    "a = 1"
   ]
  },
  {
   "cell_type": "code",
   "execution_count": 6,
   "id": "f1322773-a8b0-4808-ab9f-4f6767f90891",
   "metadata": {},
   "outputs": [
    {
     "name": "stdout",
     "output_type": "stream",
     "text": [
      "assign = <ast.Assign object at 0x103767d60>\n",
      "assign.targets = [<ast.Name object at 0x103767d00>]\n",
      "assign.targets[0] = <ast.Name object at 0x103767d00>\n",
      "assign.targets[0].id = 'a'\n",
      "assign.targets[0].ctx = <ast.Store object at 0x100a47fd0>\n",
      "assign.value = <ast.Constant object at 0x103767a60>\n",
      "assign.value.value = 1\n",
      "assign.value.kind = None\n",
      "assign.type_comment = None\n"
     ]
    }
   ],
   "source": [
    "source = \"\"\"\n",
    "# type_def.pyi\n",
    "\n",
    "a = 1\n",
    "\"\"\".strip()\n",
    "\n",
    "module = ast.parse(source)\n",
    "assign = module.body[0]\n",
    "print(f\"{assign = }\")\n",
    "print(f\"{assign.targets = }\")\n",
    "print(f\"{assign.targets[0] = }\")\n",
    "print(f\"{assign.targets[0].id = }\")\n",
    "print(f\"{assign.targets[0].ctx = }\")\n",
    "print(f\"{assign.value = }\")\n",
    "print(f\"{assign.value.value = }\")\n",
    "print(f\"{assign.value.kind = }\")\n",
    "print(f\"{assign.type_comment = }\")"
   ]
  },
  {
   "cell_type": "markdown",
   "id": "f316a522-8c12-4418-9a01-67cc6f34ab1c",
   "metadata": {},
   "source": [
    "## 带类型标注的赋值\n",
    "\n",
    "``ast.AnnAssign`` 是赋值. 类似于 ``a = 1`` (带类型注解)\n",
    "\n",
    "跟普通的 Assign 赋值的不同之处有:\n",
    "\n",
    "- 只有一个 target. 这很好理解, 因为类型标注只标注一个.\n",
    "- 多了一个 ``annotation`` 的属性, 储存的是类型注解信息. 这个属性的值取决于你是如何标注的."
   ]
  },
  {
   "cell_type": "code",
   "execution_count": 7,
   "id": "b75a4a4d-0ad1-4b5d-9f00-182ce5c8675a",
   "metadata": {},
   "outputs": [],
   "source": [
    "# type_def.pyi\n",
    "\n",
    "a: int = 1"
   ]
  },
  {
   "cell_type": "code",
   "execution_count": 8,
   "id": "20670b0a-0fd1-43fa-9554-92035ab6b974",
   "metadata": {},
   "outputs": [
    {
     "name": "stdout",
     "output_type": "stream",
     "text": [
      "assign = <ast.AnnAssign object at 0x103767f70>\n",
      "assign.target = <ast.Name object at 0x103767fd0>\n",
      "assign.target.id = 'a'\n",
      "assign.target.ctx = <ast.Store object at 0x100a47fd0>\n",
      "assign.annotation = <ast.Name object at 0x103765d20>\n",
      "assign.annotation.id = 'int'\n",
      "assign.annotation.ctx = <ast.Load object at 0x100a47f70>\n",
      "assign.value = <ast.Constant object at 0x103766ef0>\n",
      "assign.value.value = 1\n",
      "assign.value.kind = None\n"
     ]
    }
   ],
   "source": [
    "source = \"\"\"\n",
    "# type_def.pyi\n",
    "\n",
    "a: int = 1\n",
    "\"\"\".strip()\n",
    "\n",
    "module = ast.parse(source)\n",
    "assign = module.body[0]\n",
    "print(f\"{assign = }\")\n",
    "print(f\"{assign.target = }\")\n",
    "print(f\"{assign.target.id = }\")\n",
    "print(f\"{assign.target.ctx = }\")\n",
    "print(f\"{assign.annotation = }\")\n",
    "print(f\"{assign.annotation.id = }\")\n",
    "print(f\"{assign.annotation.ctx = }\")\n",
    "print(f\"{assign.value = }\")\n",
    "print(f\"{assign.value.value = }\")\n",
    "print(f\"{assign.value.kind = }\")"
   ]
  },
  {
   "cell_type": "markdown",
   "id": "d01f969c-50a0-422a-9f18-11141ce58596",
   "metadata": {},
   "source": [
    "## 嵌套类型注解\n",
    "\n",
    "对于嵌套类型注解, 也就是类似于 ``List[int]``, ``Optional[int]`` 这种, 最关键的就是 value 和 slice 两个属性:\n",
    "\n",
    "- value 就是括号外面的部分.\n",
    "- slice 就是括号里面的部分."
   ]
  },
  {
   "cell_type": "code",
   "execution_count": 9,
   "id": "9e954066-04e9-489e-b948-66561cc4663d",
   "metadata": {},
   "outputs": [],
   "source": [
    "# type_def.pyi\n",
    "\n",
    "import typing as T\n",
    "from typing import List\n",
    "\n",
    "a: T.List[int] = [1, 2, 3]\n",
    "b: List[int] = [4, 5, 6]"
   ]
  },
  {
   "cell_type": "code",
   "execution_count": 10,
   "id": "bb9c3d8a-2fe6-4c85-a6ac-03d31b7f32f7",
   "metadata": {},
   "outputs": [
    {
     "name": "stdout",
     "output_type": "stream",
     "text": [
      "--- assign_a.target.id = 'a'\n",
      "anno = <ast.Subscript object at 0x1037ea440>\n",
      "anno.value = <ast.Attribute object at 0x1037ea620>\n",
      "anno.value.value = <ast.Name object at 0x1037ea680>\n",
      "anno.value.attr = 'List'\n",
      "anno.slice = <ast.Name object at 0x1037ea500>\n",
      "anno.slice.id = 'int'\n",
      "T.List\n",
      "--- assign_b.target.id = 'b'\n",
      "anno = <ast.Subscript object at 0x1037ea650>\n",
      "anno.value = <ast.Name object at 0x1037ea710>\n",
      "anno.value.id = 'List'\n",
      "anno.slice = <ast.Name object at 0x1037ea890>\n",
      "anno.slice.id = 'int'\n",
      "List\n"
     ]
    }
   ],
   "source": [
    "source = \"\"\"\n",
    "# type_def.pyi\n",
    "\n",
    "import typing as T\n",
    "from typing import List\n",
    "\n",
    "a: T.List[int] = [1, 2, 3]\n",
    "b: List[int] = [4, 5, 6]\n",
    "\"\"\".strip()\n",
    "\n",
    "module = ast.parse(source)\n",
    "\n",
    "# 这里要区分 T.List[int] 和 List[int], 其中 value 的部分 T.List 是一个 ast.Attribute, 而 List 是一个 ast.Name\n",
    "assign_a = module.body[2]\n",
    "print(f\"--- {assign_a.target.id = }\")\n",
    "anno: ast.Subscript = assign_a.annotation\n",
    "print(f\"{anno = }\")\n",
    "print(f\"{anno.value = }\")\n",
    "print(f\"{anno.value.value = }\")\n",
    "print(f\"{anno.value.attr = }\")\n",
    "print(f\"{anno.slice = }\")\n",
    "print(f\"{anno.slice.id = }\")\n",
    "print(f\"{ast.get_source_segment(source, anno.value)}\")\n",
    "\n",
    "assign_b = module.body[3]\n",
    "print(f\"--- {assign_b.target.id = }\")\n",
    "anno: ast.Subscript = assign_b.annotation\n",
    "print(f\"{anno = }\")\n",
    "print(f\"{anno.value = }\")\n",
    "print(f\"{anno.value.id = }\")\n",
    "print(f\"{anno.slice = }\")\n",
    "print(f\"{anno.slice.id = }\")\n",
    "print(f\"{ast.get_source_segment(source, anno.value)}\")"
   ]
  },
  {
   "cell_type": "code",
   "execution_count": null,
   "id": "c6b0e938-361e-4e16-88aa-822d90dcbce4",
   "metadata": {},
   "outputs": [],
   "source": []
  }
 ],
 "metadata": {
  "kernelspec": {
   "display_name": "Python 3 (ipykernel)",
   "language": "python",
   "name": "python3"
  },
  "language_info": {
   "codemirror_mode": {
    "name": "ipython",
    "version": 3
   },
   "file_extension": ".py",
   "mimetype": "text/x-python",
   "name": "python",
   "nbconvert_exporter": "python",
   "pygments_lexer": "ipython3",
   "version": "3.11.8"
  }
 },
 "nbformat": 4,
 "nbformat_minor": 5
}
